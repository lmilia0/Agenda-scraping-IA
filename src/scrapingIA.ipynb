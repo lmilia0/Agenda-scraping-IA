{
 "cells": [
  {
   "cell_type": "code",
   "execution_count": 13,
   "id": "6bbcf517-2148-44f0-9b8e-11b0d7766811",
   "metadata": {},
   "outputs": [],
   "source": [
    "#pip install requests\n",
    "#pip install python-dotenv\n",
    "#pip install beautifulsoup4\n",
    "#pip install openai\n",
    "\n",
    "import os\n",
    "import requests\n",
    "from dotenv import load_dotenv\n",
    "from bs4 import BeautifulSoup\n",
    "import openai\n",
    "\n",
    "# Cargar variables del archivo .env\n",
    "load_dotenv()\n",
    "\n",
    "# Configurar tu clave de API de OpenAI\n",
    "openai.api_key = os.getenv(\"API_KEY\")\n",
    "\n",
    "# Descargar sitio url con parametro de etiqueta teatro\n",
    "url = \"https://www.rosario.gob.ar/inicio/agenda/buscar?etiquetas[333]=333\"\n",
    "html = requests.get(url).text\n",
    "soup = BeautifulSoup(html, \"html.parser\")\n",
    "\n",
    "# Extraer texto relevante\n",
    "contenedor = soup.select_one(\".vista-agenda-filtros-avanzados > .govuk-grid-row\")\n",
    "\n",
    "if contenedor:\n",
    "    agenda = contenedor.get_text(strip=True)\n",
    "else:\n",
    "    print(\"❌ No se encontró el contenedor. Verifica el selector CSS.\")\n",
    "    agenda = \"\""
   ]
  },
  {
   "cell_type": "code",
   "execution_count": 14,
   "id": "49211032-76a6-4393-ad13-40ba680a417d",
   "metadata": {},
   "outputs": [],
   "source": [
    "conversation = [\n",
    "  {\n",
    "    \"role\": \"system\",\n",
    "    \"content\": (\n",
    "        \"Actuás como un asistente experto en eventos culturales y recreativos de la ciudad de Rosario. \"\n",
    "    \"Tu tarea es identificar los títulos de obras de teatro presentes en el texto fuente. \"\n",
    "    \"Debés mostrar los títulos **exactamente como aparecen en el texto original**, sin omitir ninguna palabra, aunque incluyan expresiones como 'Funciones de', 'Obra:', 'Presentación de', etc. \"\n",
    "    \"No debés resumir, reformular, corregir, traducir ni seleccionar partes del título: **copialo tal cual aparece**. \"\n",
    "    \"El título debe ser tomado del bloque de texto que da a entender que se trata de una obra de teatro. \"\n",
    "    \"Ignorá horarios, precios, lugares o descripciones, y no extraigas frases sueltas que no parezcan títulos. \"\n",
    "    \"Si hay dudas, incluí toda la frase, sin modificarla.\"\n",
    "    )\n",
    "  },\n",
    "  {\n",
    "    \"role\": \"user\",\n",
    "    \"content\": f\"\"\"Texto fuente con posibles obras de teatro:\n",
    "\n",
    "{agenda}\n",
    "\n",
    "IMPORTANTE:\n",
    "- Si el texto está vacío o no contiene ninguna obra de teatro, respondé exclusivamente con: 'Por ahora no hay obras de teatro en la Agenda'.\n",
    "- Si hay una o más obras, mostrá sus títulos exactamente como aparecen.\n",
    "- Mostrá como máximo los primeros 5 títulos, sin completar ni inventar si hay menos.\n",
    "- Comenzá la respuesta con: 'Estas son las obras de teatro que te sugiero:'.\"\"\"\n",
    "  },\n",
    "  {\n",
    "    \"role\": \"user\",\n",
    "    \"content\": \"¿Qué obras de teatro hay en Rosario?\"\n",
    "  }\n",
    "]"
   ]
  },
  {
   "cell_type": "code",
   "execution_count": 15,
   "id": "ed5b725d-c4bb-4335-ad4b-bfdfd27681db",
   "metadata": {},
   "outputs": [
    {
     "name": "stdout",
     "output_type": "stream",
     "text": [
      "Estas son las obras de teatro que te sugiero:\n",
      "\n",
      "1. La Noche de los Teatros Independientes de Rosario\n",
      "2. La Noche de los Teatros Independientes en La Orilla Infinita\n",
      "3. La Noche de los Teatros Independientes en Cultural de Abajo\n",
      "4. La Noche de los Teatros Independientes en Club Fosse\n",
      "5. La Noche de los Teatros Independientes en Tandava Sala\n"
     ]
    }
   ],
   "source": [
    "response = openai.ChatCompletion.create(\n",
    "    model=\"gpt-4o\",  # este es el nombre correcto del modelo \"04-mini\"\n",
    "    messages=conversation,\n",
    "    temperature=0,\n",
    "    max_tokens=150\n",
    ")\n",
    "\n",
    "print(response[\"choices\"][0][\"message\"][\"content\"])"
   ]
  },
  {
   "cell_type": "code",
   "execution_count": 16,
   "id": "c6abd8eb-d42a-4c7a-aed6-30249eaaf804",
   "metadata": {},
   "outputs": [
    {
     "name": "stdout",
     "output_type": "stream",
     "text": [
      "✅ Imagen generada:\n",
      "https://oaidalleapiprodscus.blob.core.windows.net/private/org-GfpVRHFi9RRenarZhyfEvy9l/user-wZLS1o2mwY0IV0Lgbu12ArWb/img-xrZaQN0R9YqXEdItFbs69gHQ.png?st=2025-06-16T23%3A40%3A07Z&se=2025-06-17T01%3A40%3A07Z&sp=r&sv=2024-08-04&sr=b&rscd=inline&rsct=image/png&skoid=cc612491-d948-4d2e-9821-2683df3719f5&sktid=a48cca56-e6da-484e-a814-9c849652bcb3&skt=2025-06-16T12%3A40%3A07Z&ske=2025-06-17T12%3A40%3A07Z&sks=b&skv=2024-08-04&sig=XcIKPt/r9GEb3vpsKZZ205l4A0KSsXEKu10wAzV9x88%3D\n"
     ]
    }
   ],
   "source": [
    "if response[\"choices\"][0][\"message\"][\"content\"]:\n",
    "    # Contenido completo generado por GPT, con los 5 títulos\n",
    "    titulos = response[\"choices\"][0][\"message\"][\"content\"]\n",
    "\n",
    "    # Extraer el primer título de la lista\n",
    "    primer_titulo = titulos.strip().split(\"\\n\")[0]\n",
    "    # Limpiar número \"1. Título\"\n",
    "    titulo_limpio = primer_titulo.strip().split(\". \", 1)[-1]\n",
    "\n",
    "    # Prompt para generar la imagen con el primer titulo de la lista\n",
    "    prompt = f\"\"\"Crea una ilustración artística inspirada en la obra de teatro municipal correspondiente al título:\n",
    "    {titulo_limpio}\n",
    "    Tu tarea es representar visualmente el contenido que sugiere ese título: el tipo de evento, el ambiente, las personas, los objetos y escenarios que uno esperaría encontrar en una actividad cultural organizada por una ciudad.\n",
    "    El estilo de la ilustración debe ser:\n",
    "    - Colorido  \n",
    "    - Realista  \n",
    "    - Acogedor\n",
    "    La escena debe estar ambientada en un centro cultural o teatro local, incluyendo detalles como:\n",
    "    - Público diverso y participativo  \n",
    "    - Escenografía o decoración del lugar  \n",
    "    - Elementos culturales locales\n",
    "    Si el título es demasiado abstracto y no se puede interpretar de forma clara, generá una escena alternativa que muestre una representación teatral genérica vista desde el público, con actores en el escenario y una ambientación cálida.\n",
    "    Importante: transmití el espíritu comunitario del evento y la conexión con el entorno cultural urbano.\n",
    "    \"\"\"\n",
    "\n",
    "    try:\n",
    "        response = openai.Image.create(\n",
    "            prompt=prompt,\n",
    "            model=\"dall-e-3\",\n",
    "            n=1,\n",
    "            size=\"1024x1024\"\n",
    "        )\n",
    "\n",
    "        image_url = response['data'][0]['url']\n",
    "        print(\"✅ Imagen generada:\")\n",
    "        print(image_url)\n",
    "\n",
    "    except openai.error.OpenAIError as e:\n",
    "        print(\"❌ Error al generar la imagen:\", e)\n",
    "\n",
    "    except Exception as e:\n",
    "        print(\"❌ Otro error inesperado:\", e)\n",
    "else:\n",
    "    print(\"❌ No se hay obras de teatro para generar imagenes.\")"
   ]
  },
  {
   "cell_type": "code",
   "execution_count": null,
   "id": "49d2ff56-ae60-49cd-aa1e-127e941a7385",
   "metadata": {},
   "outputs": [],
   "source": []
  }
 ],
 "metadata": {
  "kernelspec": {
   "display_name": "Python 3 (ipykernel)",
   "language": "python",
   "name": "python3"
  },
  "language_info": {
   "codemirror_mode": {
    "name": "ipython",
    "version": 3
   },
   "file_extension": ".py",
   "mimetype": "text/x-python",
   "name": "python",
   "nbconvert_exporter": "python",
   "pygments_lexer": "ipython3",
   "version": "3.11.11"
  }
 },
 "nbformat": 4,
 "nbformat_minor": 5
}
