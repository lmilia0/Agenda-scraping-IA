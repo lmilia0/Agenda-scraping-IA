{
 "cells": [
  {
   "cell_type": "code",
   "execution_count": 1,
   "id": "6bbcf517-2148-44f0-9b8e-11b0d7766811",
   "metadata": {},
   "outputs": [],
   "source": [
    "#pip install requests\n",
    "#pip install python-dotenv\n",
    "#pip install beautifulsoup4\n",
    "#pip install openai\n",
    "\n",
    "import os\n",
    "import requests\n",
    "from dotenv import load_dotenv\n",
    "from bs4 import BeautifulSoup\n",
    "import openai\n",
    "\n",
    "# Cargar variables del archivo .env\n",
    "load_dotenv()\n",
    "\n",
    "# Configurar tu clave de API de OpenAI\n",
    "openai.api_key = os.getenv(\"API_KEY\")\n",
    "\n",
    "# Descargar sitio url con parametro de etiqueta teatro\n",
    "url = \"https://www.rosario.gob.ar/inicio/agenda/buscar?etiquetas[333]=333\"\n",
    "html = requests.get(url).text\n",
    "soup = BeautifulSoup(html, \"html.parser\")\n",
    "\n",
    "# Extraer texto relevante\n",
    "contenedor = soup.select_one(\".vista-agenda-filtros-avanzados > .govuk-grid-row\")\n",
    "\n",
    "if contenedor:\n",
    "    agenda = contenedor.get_text(strip=True)\n",
    "else:\n",
    "    print(\"❌ No se encontró el contenedor. Verifica el selector CSS.\")\n",
    "    agenda = \"\""
   ]
  },
  {
   "cell_type": "code",
   "execution_count": 2,
   "id": "49211032-76a6-4393-ad13-40ba680a417d",
   "metadata": {},
   "outputs": [],
   "source": [
    "conversation = [\n",
    "  {\n",
    "    \"role\": \"system\",\n",
    "    \"content\": (\n",
    "        \"Actuás como un asistente experto en eventos culturales y recreativos de la ciudad de Rosario. \"\n",
    "    \"Tu tarea es identificar los títulos de obras de teatro presentes en el texto fuente. \"\n",
    "    \"Debés mostrar los títulos **exactamente como aparecen en el texto original**, sin omitir ninguna palabra, aunque incluyan expresiones como 'Funciones de', 'Obra:', 'Presentación de', etc. \"\n",
    "    \"No debés resumir, reformular, corregir, traducir ni seleccionar partes del título: **copialo tal cual aparece**. \"\n",
    "    \"El título debe ser tomado del bloque de texto que da a entender que se trata de una obra de teatro. \"\n",
    "    \"Ignorá horarios, precios, lugares o descripciones, y no extraigas frases sueltas que no parezcan títulos. \"\n",
    "    \"Si hay dudas, incluí toda la frase, sin modificarla.\"\n",
    "    )\n",
    "  },\n",
    "  {\n",
    "    \"role\": \"user\",\n",
    "    \"content\": f\"\"\"Texto fuente con posibles obras de teatro:\n",
    "\n",
    "{agenda}\n",
    "\n",
    "IMPORTANTE:\n",
    "- Si el texto está vacío o no contiene ninguna obra de teatro, respondé exclusivamente con: 'Por ahora no hay obras de teatro en la Agenda'.\n",
    "- Si hay una o más obras, mostrá sus títulos exactamente como aparecen.\n",
    "- Mostrá como máximo los primeros 5 títulos, sin completar ni inventar si hay menos.\n",
    "- Comenzá la respuesta con: 'Estas son las obras de teatro que te sugiero:'.\"\"\"\n",
    "  },\n",
    "  {\n",
    "    \"role\": \"user\",\n",
    "    \"content\": \"¿Qué obras de teatro hay en Rosario?\"\n",
    "  }\n",
    "]"
   ]
  },
  {
   "cell_type": "code",
   "execution_count": 3,
   "id": "ed5b725d-c4bb-4335-ad4b-bfdfd27681db",
   "metadata": {},
   "outputs": [
    {
     "name": "stdout",
     "output_type": "stream",
     "text": [
      "Estas son las obras de teatro que te sugiero:\n",
      "1. Babilonia\n",
      "2. El Susto en La Orilla Infinita\n",
      "3. Conexión Modo Avión\n",
      "4. La Hora del Lobo\n",
      "5. Pibes Bien\n"
     ]
    }
   ],
   "source": [
    "response = openai.ChatCompletion.create(\n",
    "    model=\"gpt-4o\",  # este es el nombre correcto del modelo \"04-mini\"\n",
    "    messages=conversation,\n",
    "    temperature=0,\n",
    "    max_tokens=150\n",
    ")\n",
    "\n",
    "print(response[\"choices\"][0][\"message\"][\"content\"])"
   ]
  }
 ],
 "metadata": {
  "kernelspec": {
   "display_name": "Python 3 (ipykernel)",
   "language": "python",
   "name": "python3"
  },
  "language_info": {
   "codemirror_mode": {
    "name": "ipython",
    "version": 3
   },
   "file_extension": ".py",
   "mimetype": "text/x-python",
   "name": "python",
   "nbconvert_exporter": "python",
   "pygments_lexer": "ipython3",
   "version": "3.11.11"
  }
 },
 "nbformat": 4,
 "nbformat_minor": 5
}
