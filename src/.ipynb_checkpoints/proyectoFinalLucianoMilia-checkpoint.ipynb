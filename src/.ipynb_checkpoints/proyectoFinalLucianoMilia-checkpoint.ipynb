{
 "cells": [
  {
   "cell_type": "code",
   "execution_count": 1,
   "id": "6bbcf517-2148-44f0-9b8e-11b0d7766811",
   "metadata": {},
   "outputs": [],
   "source": [
    "import os\n",
    "import requests\n",
    "from dotenv import load_dotenv\n",
    "from bs4 import BeautifulSoup\n",
    "import openai\n",
    "\n",
    "# Cargar variables del archivo .env\n",
    "load_dotenv()\n",
    "\n",
    "# Configurar tu clave de API de OpenAI\n",
    "openai.api_key = os.getenv(\"API_KEY\")\n",
    "\n",
    "# Descargar sitio\n",
    "url = \"https://www.rosario.gob.ar/inicio/agenda/buscar?etiquetas[331]=331\"\n",
    "html = requests.get(url).text\n",
    "soup = BeautifulSoup(html, \"html.parser\")\n",
    "\n",
    "# Extraer texto relevante\n",
    "##agenda = soup.select_one(\".vista-agenda-filtros-avanzados > .govuk-grid-row\").get_text(strip=True)\n",
    "\n",
    "# Extraer texto relevante\n",
    "contenedor = soup.select_one(\".vista-agenda-filtros-avanzados > .govuk-grid-row\")\n",
    "\n",
    "if contenedor:\n",
    "    agenda = contenedor.get_text(strip=True)\n",
    "else:\n",
    "    print(\"❌ No se encontró el contenedor. Verifica el selector CSS.\")\n",
    "    agenda = \"\"\n",
    "    \n",
    "##print(agenda)"
   ]
  },
  {
   "cell_type": "code",
   "execution_count": 2,
   "id": "49211032-76a6-4393-ad13-40ba680a417d",
   "metadata": {},
   "outputs": [],
   "source": [
    "conversation = [\n",
    "  {\n",
    "    \"role\": \"system\",\n",
    "    \"content\": \"Actúas como un asistente experto en eventos culturales y recreativos de la ciudad de Rosario.Tu función es buscar y mostrar los primeros 5 títulos de las actividades.\"\n",
    "  },\n",
    "  {\n",
    "    \"role\": \"user\",\n",
    "    \"content\": f\"'Basándote en el siguiente texto fuente que contiene obras de teatro:'\\n\\n{agenda}\"\n",
    "  },\n",
    "  {\n",
    "    \"role\": \"user\",\n",
    "    \"content\": \"¿Qué obras de teatro hay en Rosario? Respondé comenzando con: Estas son las 5 obras de teatro que te sugiero:\"\n",
    "  }\n",
    "]"
   ]
  },
  {
   "cell_type": "code",
   "execution_count": 3,
   "id": "ed5b725d-c4bb-4335-ad4b-bfdfd27681db",
   "metadata": {},
   "outputs": [
    {
     "name": "stdout",
     "output_type": "stream",
     "text": [
      "Estas son las 5 obras de teatro que te sugiero:\n",
      "\n",
      "1. Muestra en el CMD Centro: ”Imágenes de Rosario”\n",
      "2. Berni Infinito\n",
      "3. La Manifestación [Las colecciones del museo a partir del mural transportable de Antonio Berni]\n",
      "4. Ceremoniales Iconográficos | Karina El Azem\n",
      "5. Sala de Exvotos a La Difunta Correa de Antonio Berni | Blas Aparecido\n"
     ]
    }
   ],
   "source": [
    "response = openai.ChatCompletion.create(\n",
    "    model=\"gpt-4o\",  # este es el nombre correcto del modelo \"04-mini\"\n",
    "    messages=conversation,\n",
    "    temperature=0,\n",
    "    max_tokens=100\n",
    ")\n",
    "\n",
    "print(response[\"choices\"][0][\"message\"][\"content\"])"
   ]
  }
 ],
 "metadata": {
  "kernelspec": {
   "display_name": "Python 3 (ipykernel)",
   "language": "python",
   "name": "python3"
  },
  "language_info": {
   "codemirror_mode": {
    "name": "ipython",
    "version": 3
   },
   "file_extension": ".py",
   "mimetype": "text/x-python",
   "name": "python",
   "nbconvert_exporter": "python",
   "pygments_lexer": "ipython3",
   "version": "3.11.11"
  }
 },
 "nbformat": 4,
 "nbformat_minor": 5
}
